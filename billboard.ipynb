{
  "cells": [
    {
      "cell_type": "raw",
      "metadata": {},
      "source": [
        "---\n",
        "title: \"Example of Encrypted Dashboard with Github Actions\"\n",
        "date: today\n",
        "date-format: \"medium\"\n",
        "format: \n",
        "  dashboard:\n",
        "    scrolling: true \n",
        "    orientation: rows\n",
        "#logo: images/logo.png\n",
        "theme: custom.scss\n",
        "---"
      ],
      "id": "86cad2ee"
    },
    {
      "cell_type": "code",
      "metadata": {},
      "source": [
        "import pandas as pd\n",
        "import numpy as np\n",
        "import matplotlib.pyplot as plt\n",
        "import koreanize_matplotlib\n",
        "\n",
        "# 임의의 데이터 생성\n",
        "x = np.linspace(0, 10, 100)\n",
        "y = np.sin(x)"
      ],
      "id": "9651152b",
      "execution_count": null,
      "outputs": []
    },
    {
      "cell_type": "markdown",
      "metadata": {},
      "source": [
        "# Page 1 \n",
        "\n",
        "## 이 페이지가 보이십니까? \n",
        "\n",
        "- 잘 보인다면 암호가 잘 풀린 것입니다. \n",
        "\n",
        "# Page 2\n"
      ],
      "id": "6431040e"
    },
    {
      "cell_type": "code",
      "metadata": {},
      "source": [
        "# 그래프 그리기\n",
        "plt.figure(figsize=(10, 6))\n",
        "plt.plot(x, y, marker='o')\n",
        "plt.title('임의의 데이터로 그린 그래프')\n",
        "plt.xlabel('x')\n",
        "plt.ylabel('y')\n",
        "plt.grid(True)\n",
        "plt.show();"
      ],
      "id": "2b0d3dd6",
      "execution_count": null,
      "outputs": []
    }
  ],
  "metadata": {
    "kernelspec": {
      "name": "python3",
      "language": "python",
      "display_name": "Python 3 (ipykernel)"
    }
  },
  "nbformat": 4,
  "nbformat_minor": 5
}